https://github.com/indravz/DSP-Project/blob/master/Data-Preprocessing.ipynb
