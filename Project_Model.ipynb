{
 "cells": [
  {
   "cell_type": "markdown",
   "metadata": {},
   "source": [
    "# Identifying Milk vs NoMilk receipts by Deep Learning"
   ]
  },
  {
   "cell_type": "markdown",
   "metadata": {},
   "source": [
    "Convolutional Neural Network"
   ]
  },
  {
   "cell_type": "code",
   "execution_count": 1,
   "metadata": {},
   "outputs": [
    {
     "name": "stderr",
     "output_type": "stream",
     "text": [
      "C:\\Users\\INDRA\\AppData\\Roaming\\Python\\Python37\\site-packages\\tensorflow\\python\\framework\\dtypes.py:526: FutureWarning: Passing (type, 1) or '1type' as a synonym of type is deprecated; in a future version of numpy, it will be understood as (type, (1,)) / '(1,)type'.\n",
      "  _np_qint8 = np.dtype([(\"qint8\", np.int8, 1)])\n",
      "C:\\Users\\INDRA\\AppData\\Roaming\\Python\\Python37\\site-packages\\tensorflow\\python\\framework\\dtypes.py:527: FutureWarning: Passing (type, 1) or '1type' as a synonym of type is deprecated; in a future version of numpy, it will be understood as (type, (1,)) / '(1,)type'.\n",
      "  _np_quint8 = np.dtype([(\"quint8\", np.uint8, 1)])\n",
      "C:\\Users\\INDRA\\AppData\\Roaming\\Python\\Python37\\site-packages\\tensorflow\\python\\framework\\dtypes.py:528: FutureWarning: Passing (type, 1) or '1type' as a synonym of type is deprecated; in a future version of numpy, it will be understood as (type, (1,)) / '(1,)type'.\n",
      "  _np_qint16 = np.dtype([(\"qint16\", np.int16, 1)])\n",
      "C:\\Users\\INDRA\\AppData\\Roaming\\Python\\Python37\\site-packages\\tensorflow\\python\\framework\\dtypes.py:529: FutureWarning: Passing (type, 1) or '1type' as a synonym of type is deprecated; in a future version of numpy, it will be understood as (type, (1,)) / '(1,)type'.\n",
      "  _np_quint16 = np.dtype([(\"quint16\", np.uint16, 1)])\n",
      "C:\\Users\\INDRA\\AppData\\Roaming\\Python\\Python37\\site-packages\\tensorflow\\python\\framework\\dtypes.py:530: FutureWarning: Passing (type, 1) or '1type' as a synonym of type is deprecated; in a future version of numpy, it will be understood as (type, (1,)) / '(1,)type'.\n",
      "  _np_qint32 = np.dtype([(\"qint32\", np.int32, 1)])\n",
      "C:\\Users\\INDRA\\AppData\\Roaming\\Python\\Python37\\site-packages\\tensorflow\\python\\framework\\dtypes.py:535: FutureWarning: Passing (type, 1) or '1type' as a synonym of type is deprecated; in a future version of numpy, it will be understood as (type, (1,)) / '(1,)type'.\n",
      "  np_resource = np.dtype([(\"resource\", np.ubyte, 1)])\n",
      "Using TensorFlow backend.\n"
     ]
    }
   ],
   "source": [
    "import tensorflow as tf\n",
    "import keras\n",
    "from tensorflow.keras.models import Sequential\n",
    "from tensorflow.keras.layers import Conv2D\n",
    "from tensorflow.keras.layers import MaxPooling2D\n",
    "from tensorflow.keras.layers import Flatten\n",
    "from tensorflow.keras.layers import Dense\n",
    "from tensorflow.keras.preprocessing.image import ImageDataGenerator\n",
    "from keras.optimizers import adam\n",
    "import matplotlib.pyplot as plt\n",
    "import numpy as np\n",
    "import os"
   ]
  },
  {
   "cell_type": "code",
   "execution_count": 2,
   "metadata": {},
   "outputs": [
    {
     "name": "stdout",
     "output_type": "stream",
     "text": [
      "C:\\Users\\INDRA\\Documents\\DSP-Project\n"
     ]
    }
   ],
   "source": [
    "#os.chdir('B:\\\\Travel\\\\US\\\\USF_Course\\\\DataScienceProgramming\\\\DSP-Project-master\\\\DSP-Project-master')\n",
    "\n",
    "#Please update the local directory where data are present\n",
    "#file_path='ourd'\n",
    "#os.chdir(file_path)\n",
    "#os.chdir('DSP-Project')\n",
    "original_path=os.getcwd()\n",
    "print(original_path)"
   ]
  },
  {
   "cell_type": "code",
   "execution_count": 3,
   "metadata": {},
   "outputs": [
    {
     "name": "stdout",
     "output_type": "stream",
     "text": [
      "WARNING:tensorflow:From C:\\Users\\INDRA\\AppData\\Roaming\\Python\\Python37\\site-packages\\tensorflow\\python\\ops\\resource_variable_ops.py:435: colocate_with (from tensorflow.python.framework.ops) is deprecated and will be removed in a future version.\n",
      "Instructions for updating:\n",
      "Colocations handled automatically by placer.\n"
     ]
    }
   ],
   "source": [
    "# Initialising the CNN\n",
    "classifier = Sequential()\n",
    "\n",
    "#NEWLY ADDED Dropout\n",
    "#classifier.add(Dropout(0.25, input_shape=(128,128,3)))\n",
    "\n",
    "# Step 1 - Convolution\n",
    "classifier.add(Conv2D(32, (3, 3), input_shape = (128, 128, 3), activation = 'relu'))\n",
    "\n",
    "# Step 2 - Pooling\n",
    "classifier.add(MaxPooling2D(pool_size = (2, 2)))\n",
    "\n",
    "# Adding a second convolutional layer\n",
    "classifier.add(Conv2D(32, (3, 3), activation = 'relu'))\n",
    "classifier.add(MaxPooling2D(pool_size = (2, 2)))\n",
    "\n",
    "# Step 3 - Pooling - NEWLY ADDED\n",
    "classifier.add(MaxPooling2D(pool_size = (2, 2)))\n",
    "\n",
    "# Adding a third convolutional layer - NEWLY ADDED\n",
    "classifier.add(Conv2D(32, (3, 3), activation = 'relu'))\n",
    "classifier.add(MaxPooling2D(pool_size = (2, 2)))\n",
    "\n",
    "# Step 3 - Flattening\n",
    "classifier.add(Flatten())\n",
    "\n",
    "# Step 4 - Full connection\n",
    "classifier.add(Dense(units = 128, activation = 'relu'))\n",
    "#classifier.add(Dense(units = 128, activation = 'elu'))\n",
    "classifier.add(Dense(units = 1, activation = 'sigmoid'))\n",
    "#classifier.add(Dense(units = 1, activation = 'softmax'))\n",
    "\n",
    "# Compiling the CNN\n",
    "#classifier.compile(optimizer = 'adam', loss = 'binary_crossentropy', metrics = ['accuracy'])\n",
    "\n",
    "opt=tf.keras.optimizers.Adam(lr=0.001)\n",
    "classifier.compile(optimizer = opt, loss = 'binary_crossentropy', metrics = ['accuracy'])\n",
    "\n",
    "\n"
   ]
  },
  {
   "cell_type": "code",
   "execution_count": 4,
   "metadata": {},
   "outputs": [],
   "source": [
    "train_datagen = ImageDataGenerator(rescale = 1./255, shear_range = 0.2, zoom_range = 0.2, horizontal_flip = True)"
   ]
  },
  {
   "cell_type": "code",
   "execution_count": 5,
   "metadata": {},
   "outputs": [],
   "source": [
    "test_datagen = ImageDataGenerator(rescale = 1./255)"
   ]
  },
  {
   "cell_type": "code",
   "execution_count": 6,
   "metadata": {},
   "outputs": [
    {
     "name": "stdout",
     "output_type": "stream",
     "text": [
      "Found 54 images belonging to 2 classes.\n"
     ]
    }
   ],
   "source": [
    "training_set = train_datagen.flow_from_directory('ourd/training_set', # relative path from working directoy\n",
    "                                                 target_size = (128, 128),\n",
    "                                                 batch_size = 50, class_mode = 'binary')"
   ]
  },
  {
   "cell_type": "code",
   "execution_count": 7,
   "metadata": {},
   "outputs": [
    {
     "name": "stdout",
     "output_type": "stream",
     "text": [
      "Found 24 images belonging to 2 classes.\n"
     ]
    }
   ],
   "source": [
    "valid_set = test_datagen.flow_from_directory('ourd/test_set', # relative path from working directoy\n",
    "                                             target_size = (128, 128), \n",
    "                                             batch_size = 20, class_mode = 'binary')"
   ]
  },
  {
   "cell_type": "code",
   "execution_count": 8,
   "metadata": {},
   "outputs": [],
   "source": [
    "from tensorflow.keras.callbacks import EarlyStopping\n",
    "\n",
    "# simple early stopping\n",
    "es = EarlyStopping(monitor='val_loss', mode='min', verbose=1)"
   ]
  },
  {
   "cell_type": "code",
   "execution_count": 9,
   "metadata": {},
   "outputs": [
    {
     "name": "stdout",
     "output_type": "stream",
     "text": [
      "WARNING:tensorflow:From C:\\Users\\INDRA\\AppData\\Roaming\\Python\\Python37\\site-packages\\tensorflow\\python\\ops\\math_ops.py:3066: to_int32 (from tensorflow.python.ops.math_ops) is deprecated and will be removed in a future version.\n",
      "Instructions for updating:\n",
      "Use tf.cast instead.\n",
      "Epoch 1/5\n",
      "2/2 [==============================] - 2s 1s/step - loss: 0.6110 - acc: 0.5417\n",
      "2/2 [==============================] - 8s 4s/step - loss: 0.7394 - acc: 0.4630 - val_loss: 0.6110 - val_acc: 0.5417\n",
      "Epoch 2/5\n",
      "2/2 [==============================] - 2s 1s/step - loss: 0.6213 - acc: 0.9167\n",
      "2/2 [==============================] - 5s 3s/step - loss: 0.6880 - acc: 0.8704 - val_loss: 0.6213 - val_acc: 0.9167\n",
      "Epoch 00002: early stopping\n"
     ]
    },
    {
     "data": {
      "text/plain": [
       "<tensorflow.python.keras.callbacks.History at 0x1a1a53bc208>"
      ]
     },
     "execution_count": 9,
     "metadata": {},
     "output_type": "execute_result"
    }
   ],
   "source": [
    "classifier.fit_generator(training_set,\n",
    "                         steps_per_epoch = 40,\n",
    "                         epochs = 5,\n",
    "                         validation_data = valid_set,\n",
    "                         validation_steps = 10, \n",
    "                         callbacks=[es])"
   ]
  },
  {
   "cell_type": "code",
   "execution_count": 10,
   "metadata": {},
   "outputs": [
    {
     "name": "stdout",
     "output_type": "stream",
     "text": [
      "Found 13 images belonging to 1 classes.\n"
     ]
    }
   ],
   "source": [
    "# Load the data for making predictions\n",
    "\n",
    "prediction_set = test_datagen.flow_from_directory('ourd/prediction_set', # relative path from working directoy\n",
    "                                            target_size = (128, 128),batch_size=1,\n",
    "                                            class_mode = 'binary')"
   ]
  },
  {
   "cell_type": "code",
   "execution_count": 11,
   "metadata": {},
   "outputs": [],
   "source": [
    "predictions=classifier.predict(prediction_set)"
   ]
  },
  {
   "cell_type": "code",
   "execution_count": 12,
   "metadata": {},
   "outputs": [],
   "source": [
    "i=np.random.choice(len(predictions))"
   ]
  },
  {
   "cell_type": "code",
   "execution_count": 13,
   "metadata": {},
   "outputs": [
    {
     "name": "stdout",
     "output_type": "stream",
     "text": [
      "This image is predicted as publix\n"
     ]
    },
    {
     "data": {
      "image/png": "[encoded data removed]",
      "text/plain": [
       "<Figure size 432x288 with 1 Axes>"
      ]
     },
     "metadata": {
      "needs_background": "light"
     },
     "output_type": "display_data"
    }
   ],
   "source": [
    "plt.imshow(prediction_set[i][0][0])\n",
    "print(\"This image is predicted as\",\"walmart\" if predictions[i] > 0.5 else \"publix\")"
   ]
  },
  {
   "cell_type": "code",
   "execution_count": 14,
   "metadata": {},
   "outputs": [
    {
     "data": {
      "image/png": "[encoded data removed]",
      "text/plain": [
       "<Figure size 432x288 with 1 Axes>"
      ]
     },
     "metadata": {
      "needs_background": "light"
     },
     "output_type": "display_data"
    }
   ],
   "source": [
    "for i in range(13):\n",
    "    plt.imshow(prediction_set[i][0][0])"
   ]
  },
  {
   "cell_type": "code",
   "execution_count": 15,
   "metadata": {},
   "outputs": [
    {
     "name": "stdout",
     "output_type": "stream",
     "text": [
      "The image    predict_me\\Receipt_publix_1.jpeg     is predicted as publix\n",
      "The image    predict_me\\walmart_or_public12.jpg     is predicted as publix\n",
      "The image    predict_me\\walmart_or_public14.jpg     is predicted as publix\n",
      "The image    predict_me\\walmart_or_publix10.jpg     is predicted as publix\n",
      "The image    predict_me\\walmart_or_publix11.jpg     is predicted as walmart\n",
      "The image    predict_me\\walmart_or_publix12.jpg     is predicted as publix\n",
      "The image    predict_me\\walmart_or_publix13.jpg     is predicted as publix\n",
      "The image    predict_me\\walmart_or_publix4.jpg     is predicted as publix\n",
      "The image    predict_me\\walmart_or_publix5.jpg     is predicted as publix\n",
      "The image    predict_me\\walmart_or_publix6.jpg     is predicted as publix\n",
      "The image    predict_me\\walmart_or_publix7.jpg     is predicted as publix\n",
      "The image    predict_me\\walmart_or_publix8.jpeg     is predicted as publix\n",
      "The image    predict_me\\walmart_or_publix9.png     is predicted as publix\n"
     ]
    }
   ],
   "source": [
    "for i in range(13):\n",
    "    print(\"The image    \"+ prediction_set.filenames[i] + \"    \"+ \" is predicted as\",\"walmart\" if predictions[i] > 0.5 else \"publix\")"
   ]
  },
  {
   "cell_type": "code",
   "execution_count": 16,
   "metadata": {},
   "outputs": [
    {
     "name": "stdout",
     "output_type": "stream",
     "text": [
      "[0.49230498]\n"
     ]
    }
   ],
   "source": [
    "print(predictions[i])"
   ]
  },
  {
   "cell_type": "code",
   "execution_count": 17,
   "metadata": {},
   "outputs": [
    {
     "name": "stdout",
     "output_type": "stream",
     "text": [
      "[[0.49395108]\n",
      " [0.47650975]\n",
      " [0.47713566]\n",
      " [0.481837  ]\n",
      " [0.5039572 ]\n",
      " [0.48413327]\n",
      " [0.4840355 ]\n",
      " [0.48459938]\n",
      " [0.48335397]\n",
      " [0.48982912]\n",
      " [0.4833763 ]\n",
      " [0.48289198]\n",
      " [0.49230498]]\n"
     ]
    }
   ],
   "source": [
    "print(predictions)"
   ]
  },
  {
   "cell_type": "code",
   "execution_count": 18,
   "metadata": {},
   "outputs": [
    {
     "name": "stdout",
     "output_type": "stream",
     "text": [
      "<class 'keras_preprocessing.image.directory_iterator.DirectoryIterator'>\n"
     ]
    }
   ],
   "source": [
    "print(type(prediction_set))"
   ]
  },
  {
   "cell_type": "code",
   "execution_count": 19,
   "metadata": {},
   "outputs": [
    {
     "name": "stdout",
     "output_type": "stream",
     "text": [
      "predict_me\\walmart_or_public12.jpg\n"
     ]
    }
   ],
   "source": [
    "print(prediction_set.filenames[1])"
   ]
  },
  {
   "cell_type": "markdown",
   "metadata": {},
   "source": [
    "# MILK or Not Milk without Augmentation"
   ]
  },
  {
   "cell_type": "code",
   "execution_count": 20,
   "metadata": {},
   "outputs": [
    {
     "name": "stdout",
     "output_type": "stream",
     "text": [
      "Found 27 images belonging to 2 classes.\n"
     ]
    }
   ],
   "source": [
    "training_set = train_datagen.flow_from_directory('ourd1/training_set', # relative path from working directoy\n",
    "                                                 target_size = (128, 128),\n",
    "                                                 batch_size = 50, class_mode = 'binary')"
   ]
  },
  {
   "cell_type": "code",
   "execution_count": 21,
   "metadata": {},
   "outputs": [
    {
     "name": "stdout",
     "output_type": "stream",
     "text": [
      "Found 27 images belonging to 2 classes.\n"
     ]
    }
   ],
   "source": [
    "valid_set = test_datagen.flow_from_directory('ourd1/test_set', # relative path from working directoy\n",
    "                                             target_size = (128, 128), \n",
    "                                             batch_size = 20, class_mode = 'binary')"
   ]
  },
  {
   "cell_type": "code",
   "execution_count": 22,
   "metadata": {},
   "outputs": [],
   "source": [
    "from tensorflow.keras.callbacks import EarlyStopping\n",
    "\n",
    "# simple early stopping\n",
    "es = EarlyStopping(monitor='val_loss', mode='min', verbose=1)"
   ]
  },
  {
   "cell_type": "code",
   "execution_count": 23,
   "metadata": {},
   "outputs": [
    {
     "name": "stdout",
     "output_type": "stream",
     "text": [
      "Epoch 1/5\n",
      "2/2 [==============================] - 2s 1s/step - loss: 0.6122 - acc: 0.6667\n",
      "1/1 [==============================] - 5s 5s/step - loss: 0.6668 - acc: 0.8148 - val_loss: 0.6122 - val_acc: 0.6667\n",
      "Epoch 2/5\n",
      "2/2 [==============================] - 3s 2s/step - loss: 0.5477 - acc: 0.6667\n",
      "1/1 [==============================] - 4s 4s/step - loss: 0.6330 - acc: 0.6667 - val_loss: 0.5477 - val_acc: 0.6667\n",
      "Epoch 3/5\n",
      "2/2 [==============================] - 3s 1s/step - loss: 0.5173 - acc: 0.6667\n",
      "1/1 [==============================] - 4s 4s/step - loss: 0.6080 - acc: 0.6667 - val_loss: 0.5173 - val_acc: 0.6667\n",
      "Epoch 4/5\n",
      "2/2 [==============================] - 3s 1s/step - loss: 0.5658 - acc: 0.6667\n",
      "1/1 [==============================] - 4s 4s/step - loss: 0.5874 - acc: 0.6667 - val_loss: 0.5658 - val_acc: 0.6667\n",
      "Epoch 00004: early stopping\n"
     ]
    },
    {
     "data": {
      "text/plain": [
       "<tensorflow.python.keras.callbacks.History at 0x1a1a55607b8>"
      ]
     },
     "execution_count": 23,
     "metadata": {},
     "output_type": "execute_result"
    }
   ],
   "source": [
    "classifier.fit_generator(training_set,\n",
    "                         steps_per_epoch = 40,\n",
    "                         epochs = 5,\n",
    "                         validation_data = valid_set,\n",
    "                         validation_steps = 10, \n",
    "                         callbacks=[es])"
   ]
  },
  {
   "cell_type": "code",
   "execution_count": 24,
   "metadata": {},
   "outputs": [
    {
     "name": "stdout",
     "output_type": "stream",
     "text": [
      "Found 13 images belonging to 1 classes.\n"
     ]
    }
   ],
   "source": [
    "# Load the data for making predictions\n",
    "\n",
    "prediction_set1 = test_datagen.flow_from_directory('ourd1/prediction_set', # relative path from working directoy\n",
    "                                            target_size = (128, 128),batch_size=1,\n",
    "                                            class_mode = 'binary')"
   ]
  },
  {
   "cell_type": "code",
   "execution_count": 25,
   "metadata": {},
   "outputs": [],
   "source": [
    "predictions1=classifier.predict(prediction_set1)"
   ]
  },
  {
   "cell_type": "code",
   "execution_count": 31,
   "metadata": {},
   "outputs": [
    {
     "name": "stdout",
     "output_type": "stream",
     "text": [
      "1\n"
     ]
    }
   ],
   "source": [
    "i=np.random.choice(len(predictions1))\n",
    "print(i)"
   ]
  },
  {
   "cell_type": "code",
   "execution_count": 33,
   "metadata": {},
   "outputs": [
    {
     "name": "stdout",
     "output_type": "stream",
     "text": [
      "This image is predicted as milk\n"
     ]
    },
    {
     "data": {
      "image/png": "[encoded data removed]",
      "text/plain": [
       "<Figure size 432x288 with 1 Axes>"
      ]
     },
     "metadata": {
      "needs_background": "light"
     },
     "output_type": "display_data"
    }
   ],
   "source": [
    "plt.imshow(prediction_set1[i][0][0])\n",
    "#print(prediction_set1[i][0][0])\n",
    "print(\"This image is predicted as\",\"milk\" if predictions1[i] > 0.5 else \"not milk\")"
   ]
  },
  {
   "cell_type": "code",
   "execution_count": 34,
   "metadata": {},
   "outputs": [
    {
     "name": "stdout",
     "output_type": "stream",
     "text": [
      "The image    predict_me\\Receipt_publix_1.jpeg     is predicted as milk\n",
      "The image    predict_me\\walmart_or_public12.jpg     is predicted as milk\n",
      "The image    predict_me\\walmart_or_public14.jpg     is predicted as milk\n",
      "The image    predict_me\\walmart_or_publix10.jpg     is predicted as milk\n",
      "The image    predict_me\\walmart_or_publix11.jpg     is predicted as milk\n",
      "The image    predict_me\\walmart_or_publix12.jpg     is predicted as milk\n",
      "The image    predict_me\\walmart_or_publix13.jpg     is predicted as milk\n",
      "The image    predict_me\\walmart_or_publix4.jpg     is predicted as milk\n",
      "The image    predict_me\\walmart_or_publix5.jpg     is predicted as milk\n",
      "The image    predict_me\\walmart_or_publix6.jpg     is predicted as milk\n",
      "The image    predict_me\\walmart_or_publix7.jpg     is predicted as milk\n",
      "The image    predict_me\\walmart_or_publix8.jpeg     is predicted as milk\n",
      "The image    predict_me\\walmart_or_publix9.png     is predicted as milk\n"
     ]
    },
    {
     "data": {
      "image/png": "[encoded data removed]",
      "text/plain": [
       "<Figure size 432x288 with 1 Axes>"
      ]
     },
     "metadata": {
      "needs_background": "light"
     },
     "output_type": "display_data"
    }
   ],
   "source": [
    "for i in range(13):\n",
    "    plt.imshow(prediction_set1[i][0][0])\n",
    "    print(\"The image    \"+ prediction_set.filenames[i] + \"    \"+ \" is predicted as\",\"milk\" if predictions1[i] > 0.5 else \"not milk\")"
   ]
  },
  {
   "cell_type": "markdown",
   "metadata": {},
   "source": [
    "# Generate images artifically"
   ]
  },
  {
   "cell_type": "markdown",
   "metadata": {},
   "source": [
    "This Augmented Dataset is for Milk and NoMilk receipts to overcome the problem of low volume of dataset"
   ]
  },
  {
   "cell_type": "code",
   "execution_count": 35,
   "metadata": {},
   "outputs": [],
   "source": [
    "import os\n",
    "import random\n",
    "from scipy import ndarray\n",
    "\n",
    "# image processing library\n",
    "import skimage as sk\n",
    "from skimage import transform\n",
    "from skimage import util\n",
    "from skimage import io\n"
   ]
  },
  {
   "cell_type": "code",
   "execution_count": 36,
   "metadata": {},
   "outputs": [],
   "source": [
    "def random_rotation(image_array: ndarray):\n",
    "    # pick a random degree of rotation between 25% on the left and 25% on the right\n",
    "    random_degree = random.uniform(-25, 25)\n",
    "    return sk.transform.rotate(image_array, random_degree)\n",
    "\n",
    "def random_noise(image_array: ndarray):\n",
    "    # add random noise to the image\n",
    "    return sk.util.random_noise(image_array)\n",
    "\n",
    "def horizontal_flip(image_array: ndarray):\n",
    "    # horizontal flip doesn't need skimage, it's easy as flipping the image array of pixels !\n",
    "    return image_array[:, ::-1]"
   ]
  },
  {
   "cell_type": "code",
   "execution_count": 47,
   "metadata": {},
   "outputs": [],
   "source": [
    "# dictionary of the transformations we defined earlier\n",
    "available_transformations = {\n",
    "    #'rotate': random_rotation,\n",
    "    'noise': random_noise,\n",
    "    #'horizontal_flip': horizontal_flip\n",
    "}\n",
    "\n",
    "#folder_path = 'images/cat'\n",
    "#num_files_desired = 10"
   ]
  },
  {
   "cell_type": "code",
   "execution_count": 50,
   "metadata": {},
   "outputs": [
    {
     "name": "stdout",
     "output_type": "stream",
     "text": [
      "C:\\Users\\INDRA\\Documents\\DSP-Project\n"
     ]
    }
   ],
   "source": [
    "# our folder path containing some images\n",
    "\n",
    "#FIRST ITER:\n",
    "#folder_path = 'B:\\\\Travel\\\\US\\\\USF_Course\\\\DataScienceProgramming\\\\DSP-Project-master\\\\DSP-Project-master\\\\generate\\\\Milk'\n",
    "\n",
    "#SECOND ITER:\n",
    "#folder_path = 'B:\\\\Travel\\\\US\\\\USF_Course\\\\DataScienceProgramming\\\\DSP-Project-master\\\\DSP-Project-master\\\\generate1\\\\Milk'\n",
    "\n",
    "#Please update the local directory where data are present\n",
    "os.chdir(original_path)\n",
    "print(os.getcwd())\n",
    "#os.getcwd()\n",
    "folder_path='generate/training_set/Milk'\n",
    "#os.chdir(folder_path)\n",
    "\n",
    "# the number of file to generate\n",
    "num_files_desired = 1"
   ]
  },
  {
   "cell_type": "code",
   "execution_count": 51,
   "metadata": {},
   "outputs": [
    {
     "name": "stderr",
     "output_type": "stream",
     "text": [
      "Lossy conversion from float64 to uint8. Range [0, 1]. Convert image to uint8 prior to saving to suppress this warning.\n",
      "Lossy conversion from float64 to uint8. Range [0, 1]. Convert image to uint8 prior to saving to suppress this warning.\n"
     ]
    }
   ],
   "source": [
    "# find all files paths from the folder\n",
    "images = [os.path.join(folder_path, f) for f in os.listdir(folder_path) if os.path.isfile(os.path.join(folder_path, f))]\n",
    "\n",
    "num_generated_files = 0\n",
    "while num_generated_files <= num_files_desired:\n",
    "    # random image from the folder\n",
    "    image_path = random.choice(images)\n",
    "    # read image as an two dimensional array of pixels\n",
    "    image_to_transform = sk.io.imread(image_path)\n",
    "    # random num of transformation to apply\n",
    "    num_transformations_to_apply = random.randint(1, len(available_transformations))\n",
    "\n",
    "    num_transformations = 0\n",
    "    transformed_image = None\n",
    "    while num_transformations <= num_transformations_to_apply:\n",
    "        # random transformation to apply for a single image\n",
    "        key = random.choice(list(available_transformations))\n",
    "        transformed_image = available_transformations[key](image_to_transform)\n",
    "        num_transformations += 1\n",
    "\n",
    "    new_file_path = '%s/augmented_image_%s.jpg' % (folder_path, num_generated_files)\n",
    "\n",
    "    # write image to the disk\n",
    "    io.imsave(new_file_path, transformed_image)\n",
    "    num_generated_files += 1   # Please change the number of augmented files generated, we have generated 1000 and split 700 into train anf 300 to test\n",
    "    "
   ]
  },
  {
   "cell_type": "markdown",
   "metadata": {},
   "source": [
    "This Augmented Dataset is for NoMilk"
   ]
  },
  {
   "cell_type": "code",
   "execution_count": 57,
   "metadata": {},
   "outputs": [
    {
     "name": "stdout",
     "output_type": "stream",
     "text": [
      "C:\\Users\\INDRA\\Documents\\DSP-Project\n"
     ]
    }
   ],
   "source": [
    "# our folder path containing some images\n",
    "\n",
    "#FIRST ITER:\n",
    "#folder_path = 'B:\\\\Travel\\\\US\\\\USF_Course\\\\DataScienceProgramming\\\\DSP-Project-master\\\\DSP-Project-master\\\\generate\\\\NoMilk'\n",
    "\n",
    "#SECOND ITER:\n",
    "#folder_path = 'B:\\\\Travel\\\\US\\\\USF_Course\\\\DataScienceProgramming\\\\DSP-Project-master\\\\DSP-Project-master\\\\generate1\\\\NoMilk'\n",
    "\n",
    "#Please update the local directory where data are present\n",
    "os.chdir(original_path)\n",
    "print(os.getcwd())\n",
    "folder_path='generate/training_set/Milk'\n",
    "#os.chdir(folder_path)\n",
    "\n",
    "# the number of file to generate\n",
    "num_files_desired = 1 # Please change the number to number of training sets required, we generated 1000 no milk images and then split the into 700 trraining and 300 test"
   ]
  },
  {
   "cell_type": "code",
   "execution_count": 58,
   "metadata": {},
   "outputs": [
    {
     "name": "stderr",
     "output_type": "stream",
     "text": [
      "Lossy conversion from float64 to uint8. Range [0, 1]. Convert image to uint8 prior to saving to suppress this warning.\n"
     ]
    },
    {
     "name": "stdout",
     "output_type": "stream",
     "text": [
      "C:\\Users\\INDRA\\Documents\\DSP-Project\n"
     ]
    },
    {
     "name": "stderr",
     "output_type": "stream",
     "text": [
      "Lossy conversion from float64 to uint8. Range [0, 1]. Convert image to uint8 prior to saving to suppress this warning.\n"
     ]
    },
    {
     "name": "stdout",
     "output_type": "stream",
     "text": [
      "C:\\Users\\INDRA\\Documents\\DSP-Project\n"
     ]
    }
   ],
   "source": [
    "# find all files paths from the folder\n",
    "images = [os.path.join(folder_path, f) for f in os.listdir(folder_path) if os.path.isfile(os.path.join(folder_path, f))]\n",
    "\n",
    "num_generated_files = 0\n",
    "while num_generated_files <= num_files_desired:\n",
    "    # random image from the folder\n",
    "    image_path = random.choice(images)\n",
    "    # read image as an two dimensional array of pixels\n",
    "    image_to_transform = sk.io.imread(image_path)\n",
    "    # random num of transformation to apply\n",
    "    num_transformations_to_apply = random.randint(1, len(available_transformations))\n",
    "\n",
    "    num_transformations = 0\n",
    "    transformed_image = None\n",
    "    while num_transformations <= num_transformations_to_apply:\n",
    "        # random transformation to apply for a single image\n",
    "        key = random.choice(list(available_transformations))\n",
    "        transformed_image = available_transformations[key](image_to_transform)\n",
    "        num_transformations += 1\n",
    "\n",
    "    new_file_path = '%s/augmented_image_%s.jpg' % (folder_path, num_generated_files)\n",
    "\n",
    "    # write image to the disk\n",
    "    io.imsave(new_file_path, transformed_image)\n",
    "    num_generated_files += 1\n",
    "    os.chdir(original_path)\n",
    "    print(os.getcwd())"
   ]
  },
  {
   "cell_type": "markdown",
   "metadata": {},
   "source": [
    "# Run CNN model on Augmented data set"
   ]
  },
  {
   "cell_type": "code",
   "execution_count": 59,
   "metadata": {},
   "outputs": [],
   "source": [
    "import tensorflow as tf\n",
    "import keras\n",
    "from tensorflow.keras.models import Sequential\n",
    "from tensorflow.keras.layers import Conv2D\n",
    "from tensorflow.keras.layers import MaxPooling2D\n",
    "from tensorflow.keras.layers import Flatten\n",
    "from tensorflow.keras.layers import Dense\n",
    "from tensorflow.keras.layers import Dropout\n",
    "from tensorflow.keras.preprocessing.image import ImageDataGenerator\n",
    "from keras.optimizers import adam\n",
    "import matplotlib.pyplot as plt\n",
    "import numpy as np\n",
    "import os"
   ]
  },
  {
   "cell_type": "code",
   "execution_count": 60,
   "metadata": {},
   "outputs": [
    {
     "name": "stdout",
     "output_type": "stream",
     "text": [
      "WARNING:tensorflow:From C:\\Users\\INDRA\\AppData\\Roaming\\Python\\Python37\\site-packages\\tensorflow\\python\\keras\\layers\\core.py:143: calling dropout (from tensorflow.python.ops.nn_ops) with keep_prob is deprecated and will be removed in a future version.\n",
      "Instructions for updating:\n",
      "Please use `rate` instead of `keep_prob`. Rate should be set to `rate = 1 - keep_prob`.\n"
     ]
    }
   ],
   "source": [
    "# Initialising the CNN\n",
    "classifier = Sequential()\n",
    "\n",
    "#NEWLY ADDED Dropout\n",
    "classifier.add(Dropout(0.40, input_shape=(128,128,3)))\n",
    "\n",
    "# Step 1 - Convolution\n",
    "classifier.add(Conv2D(32, (3, 3), input_shape = (128, 128, 3), activation = 'relu'))\n",
    "\n",
    "# Step 2 - Pooling\n",
    "classifier.add(MaxPooling2D(pool_size = (2, 2)))\n",
    "\n",
    "# Adding a second convolutional layer\n",
    "classifier.add(Conv2D(32, (3, 3), activation = 'relu'))\n",
    "#classifier.add(MaxPooling2D(pool_size = (2, 2)))\n",
    "\n",
    "# Step 3 - Pooling - NEWLY ADDED\n",
    "classifier.add(MaxPooling2D(pool_size = (2, 2)))\n",
    "\n",
    "# Adding a third convolutional layer - NEWLY ADDED\n",
    "classifier.add(Conv2D(32, (3, 3), activation = 'relu'))\n",
    "classifier.add(MaxPooling2D(pool_size = (2, 2)))\n",
    "\n",
    "# Step 3 - Flattening\n",
    "classifier.add(Flatten())\n",
    "\n",
    "# Step 4 - Full connection\n",
    "classifier.add(Dense(units = 128, activation = 'relu'))\n",
    "#classifier.add(Dense(units = 128, activation = 'elu'))\n",
    "classifier.add(Dense(units = 1, activation = 'sigmoid'))\n",
    "#classifier.add(Dense(units = 1, activation = 'softmax'))\n",
    "\n",
    "# Compiling the CNN\n",
    "#classifier.compile(optimizer = 'adam', loss = 'binary_crossentropy', metrics = ['accuracy'])\n",
    "\n",
    "opt=tf.keras.optimizers.Adam(lr=0.001)\n",
    "classifier.compile(optimizer = opt, loss = 'binary_crossentropy', metrics = ['accuracy'])\n",
    "\n",
    "\n"
   ]
  },
  {
   "cell_type": "code",
   "execution_count": 61,
   "metadata": {},
   "outputs": [],
   "source": [
    "train_datagen = ImageDataGenerator(rescale = 1./255, shear_range = 0.2, zoom_range = 0.2, horizontal_flip = True)"
   ]
  },
  {
   "cell_type": "code",
   "execution_count": 62,
   "metadata": {},
   "outputs": [],
   "source": [
    "test_datagen = ImageDataGenerator(rescale = 1./255)"
   ]
  },
  {
   "cell_type": "code",
   "execution_count": 65,
   "metadata": {},
   "outputs": [],
   "source": [
    "#os.chdir('B:\\\\Travel\\\\US\\\\USF_Course\\\\DataScienceProgramming\\\\DSP-Project-master\\\\DSP-Project-master\\\\')\n",
    "\n",
    "#Please update the local directory where data are present\n",
    "#file_path=''\n",
    "#os.chdir(file_path)"
   ]
  },
  {
   "cell_type": "code",
   "execution_count": 68,
   "metadata": {},
   "outputs": [
    {
     "name": "stdout",
     "output_type": "stream",
     "text": [
      "Found 22 images belonging to 2 classes.\n"
     ]
    }
   ],
   "source": [
    "#FIRST ITER:\n",
    "#training_set = train_datagen.flow_from_directory('generate/training_set', # relative path from working directoy\n",
    "#                                                 target_size = (128, 128),\n",
    "#                                                 batch_size = 50, class_mode = 'binary')\n",
    "\n",
    "#SECOND ITER:\n",
    "training_set = train_datagen.flow_from_directory('generate/training_set', # relative path from working directoy\n",
    "                                                 target_size = (128, 128),\n",
    "                                                 batch_size = 50, class_mode = 'binary')\n"
   ]
  },
  {
   "cell_type": "code",
   "execution_count": 71,
   "metadata": {},
   "outputs": [
    {
     "name": "stdout",
     "output_type": "stream",
     "text": [
      "Found 0 images belonging to 2 classes.\n"
     ]
    }
   ],
   "source": [
    "#FIRST ITER\n",
    "#valid_set = test_datagen.flow_from_directory('generate/test_set', # relative path from working directoy\n",
    "#                                             target_size = (128, 128), \n",
    "#                                             batch_size = 20, class_mode = 'binary')\n",
    "        \n",
    "#SECOND ITER\n",
    "valid_set = test_datagen.flow_from_directory('generate/test_set', # relative path from working directoy\n",
    "                                             target_size = (128, 128), \n",
    "                                             batch_size = 20, class_mode = 'binary')"
   ]
  },
  {
   "cell_type": "code",
   "execution_count": 72,
   "metadata": {},
   "outputs": [],
   "source": [
    "from tensorflow.keras.callbacks import EarlyStopping\n",
    "\n",
    "# simple early stopping\n",
    "es = EarlyStopping(monitor='val_loss', mode='min', verbose=1)"
   ]
  },
  {
   "cell_type": "code",
   "execution_count": 79,
   "metadata": {},
   "outputs": [
    {
     "name": "stdout",
     "output_type": "stream",
     "text": [
      "Epoch 1/5\n"
     ]
    },
    {
     "ename": "IndexError",
     "evalue": "list index out of range",
     "output_type": "error",
     "traceback": [
      "\u001b[1;31m---------------------------------------------------------------------------\u001b[0m",
      "\u001b[1;31mIndexError\u001b[0m                                Traceback (most recent call last)",
      "\u001b[1;32m<ipython-input-79-1ad0abb8036d>\u001b[0m in \u001b[0;36m<module>\u001b[1;34m\u001b[0m\n\u001b[0;32m      4\u001b[0m                          \u001b[0mvalidation_data\u001b[0m \u001b[1;33m=\u001b[0m \u001b[0mvalid_set\u001b[0m\u001b[1;33m,\u001b[0m\u001b[1;33m\u001b[0m\u001b[1;33m\u001b[0m\u001b[0m\n\u001b[0;32m      5\u001b[0m                          \u001b[0mvalidation_steps\u001b[0m \u001b[1;33m=\u001b[0m \u001b[1;36m10\u001b[0m\u001b[1;33m,\u001b[0m\u001b[1;33m\u001b[0m\u001b[1;33m\u001b[0m\u001b[0m\n\u001b[1;32m----> 6\u001b[1;33m                          callbacks=[es])\n\u001b[0m",
      "\u001b[1;32m~\\AppData\\Roaming\\Python\\Python37\\site-packages\\tensorflow\\python\\keras\\engine\\training.py\u001b[0m in \u001b[0;36mfit_generator\u001b[1;34m(self, generator, steps_per_epoch, epochs, verbose, callbacks, validation_data, validation_steps, class_weight, max_queue_size, workers, use_multiprocessing, shuffle, initial_epoch)\u001b[0m\n\u001b[0;32m   1424\u001b[0m         \u001b[0muse_multiprocessing\u001b[0m\u001b[1;33m=\u001b[0m\u001b[0muse_multiprocessing\u001b[0m\u001b[1;33m,\u001b[0m\u001b[1;33m\u001b[0m\u001b[1;33m\u001b[0m\u001b[0m\n\u001b[0;32m   1425\u001b[0m         \u001b[0mshuffle\u001b[0m\u001b[1;33m=\u001b[0m\u001b[0mshuffle\u001b[0m\u001b[1;33m,\u001b[0m\u001b[1;33m\u001b[0m\u001b[1;33m\u001b[0m\u001b[0m\n\u001b[1;32m-> 1426\u001b[1;33m         initial_epoch=initial_epoch)\n\u001b[0m\u001b[0;32m   1427\u001b[0m \u001b[1;33m\u001b[0m\u001b[0m\n\u001b[0;32m   1428\u001b[0m   def evaluate_generator(self,\n",
      "\u001b[1;32m~\\AppData\\Roaming\\Python\\Python37\\site-packages\\tensorflow\\python\\keras\\engine\\training_generator.py\u001b[0m in \u001b[0;36mmodel_iteration\u001b[1;34m(model, data, steps_per_epoch, epochs, verbose, callbacks, validation_data, validation_steps, class_weight, max_queue_size, workers, use_multiprocessing, shuffle, initial_epoch, mode, batch_size, **kwargs)\u001b[0m\n\u001b[0;32m    223\u001b[0m           \u001b[0muse_multiprocessing\u001b[0m\u001b[1;33m=\u001b[0m\u001b[0muse_multiprocessing\u001b[0m\u001b[1;33m,\u001b[0m\u001b[1;33m\u001b[0m\u001b[1;33m\u001b[0m\u001b[0m\n\u001b[0;32m    224\u001b[0m           \u001b[0mmax_queue_size\u001b[0m\u001b[1;33m=\u001b[0m\u001b[0mmax_queue_size\u001b[0m\u001b[1;33m,\u001b[0m\u001b[1;33m\u001b[0m\u001b[1;33m\u001b[0m\u001b[0m\n\u001b[1;32m--> 225\u001b[1;33m           mode='test')\n\u001b[0m\u001b[0;32m    226\u001b[0m \u001b[1;33m\u001b[0m\u001b[0m\n\u001b[0;32m    227\u001b[0m       \u001b[1;32mif\u001b[0m \u001b[1;32mnot\u001b[0m \u001b[0misinstance\u001b[0m\u001b[1;33m(\u001b[0m\u001b[0mval_results\u001b[0m\u001b[1;33m,\u001b[0m \u001b[0mlist\u001b[0m\u001b[1;33m)\u001b[0m\u001b[1;33m:\u001b[0m\u001b[1;33m\u001b[0m\u001b[1;33m\u001b[0m\u001b[0m\n",
      "\u001b[1;32m~\\AppData\\Roaming\\Python\\Python37\\site-packages\\tensorflow\\python\\keras\\engine\\training_generator.py\u001b[0m in \u001b[0;36mmodel_iteration\u001b[1;34m(model, data, steps_per_epoch, epochs, verbose, callbacks, validation_data, validation_steps, class_weight, max_queue_size, workers, use_multiprocessing, shuffle, initial_epoch, mode, batch_size, **kwargs)\u001b[0m\n\u001b[0;32m    206\u001b[0m         \u001b[1;32mbreak\u001b[0m\u001b[1;33m\u001b[0m\u001b[1;33m\u001b[0m\u001b[0m\n\u001b[0;32m    207\u001b[0m \u001b[1;33m\u001b[0m\u001b[0m\n\u001b[1;32m--> 208\u001b[1;33m     \u001b[0maggregator\u001b[0m\u001b[1;33m.\u001b[0m\u001b[0mfinalize\u001b[0m\u001b[1;33m(\u001b[0m\u001b[1;33m)\u001b[0m\u001b[1;33m\u001b[0m\u001b[1;33m\u001b[0m\u001b[0m\n\u001b[0m\u001b[0;32m    209\u001b[0m     \u001b[0mresults\u001b[0m \u001b[1;33m=\u001b[0m \u001b[0maggregator\u001b[0m\u001b[1;33m.\u001b[0m\u001b[0mresults\u001b[0m\u001b[1;33m\u001b[0m\u001b[1;33m\u001b[0m\u001b[0m\n\u001b[0;32m    210\u001b[0m     \u001b[0mepoch_logs\u001b[0m\u001b[1;33m.\u001b[0m\u001b[0mupdate\u001b[0m\u001b[1;33m(\u001b[0m\u001b[0mtraining_utils\u001b[0m\u001b[1;33m.\u001b[0m\u001b[0mmake_logs\u001b[0m\u001b[1;33m(\u001b[0m\u001b[0mmodel\u001b[0m\u001b[1;33m,\u001b[0m \u001b[0mresults\u001b[0m\u001b[1;33m,\u001b[0m \u001b[0mmode\u001b[0m\u001b[1;33m)\u001b[0m\u001b[1;33m)\u001b[0m\u001b[1;33m\u001b[0m\u001b[1;33m\u001b[0m\u001b[0m\n",
      "\u001b[1;32m~\\AppData\\Roaming\\Python\\Python37\\site-packages\\tensorflow\\python\\keras\\engine\\training_utils.py\u001b[0m in \u001b[0;36mfinalize\u001b[1;34m(self)\u001b[0m\n\u001b[0;32m    106\u001b[0m \u001b[1;33m\u001b[0m\u001b[0m\n\u001b[0;32m    107\u001b[0m   \u001b[1;32mdef\u001b[0m \u001b[0mfinalize\u001b[0m\u001b[1;33m(\u001b[0m\u001b[0mself\u001b[0m\u001b[1;33m)\u001b[0m\u001b[1;33m:\u001b[0m\u001b[1;33m\u001b[0m\u001b[1;33m\u001b[0m\u001b[0m\n\u001b[1;32m--> 108\u001b[1;33m     \u001b[0mself\u001b[0m\u001b[1;33m.\u001b[0m\u001b[0mresults\u001b[0m\u001b[1;33m[\u001b[0m\u001b[1;36m0\u001b[0m\u001b[1;33m]\u001b[0m \u001b[1;33m/=\u001b[0m \u001b[0mself\u001b[0m\u001b[1;33m.\u001b[0m\u001b[0mnum_samples_or_steps\u001b[0m\u001b[1;33m\u001b[0m\u001b[1;33m\u001b[0m\u001b[0m\n\u001b[0m\u001b[0;32m    109\u001b[0m \u001b[1;33m\u001b[0m\u001b[0m\n\u001b[0;32m    110\u001b[0m \u001b[1;33m\u001b[0m\u001b[0m\n",
      "\u001b[1;31mIndexError\u001b[0m: list index out of range"
     ]
    }
   ],
   "source": [
    "classifier.fit_generator(training_set,\n",
    "                         steps_per_epoch = 40,\n",
    "                         epochs = 5,\n",
    "                         validation_data = valid_set,\n",
    "                         validation_steps = 10, \n",
    "                         callbacks=[es])"
   ]
  },
  {
   "cell_type": "code",
   "execution_count": null,
   "metadata": {},
   "outputs": [],
   "source": [
    "# Load the data for making predictions\n",
    "#FIRST ITER\n",
    "#prediction_set2 = test_datagen.flow_from_directory('generate/prediction_set', # relative path from working directoy\n",
    "#                                            target_size = (128, 128),batch_size=1,\n",
    "#                                            class_mode = 'binary')\n",
    "\n",
    "#SECOND ITER\n",
    "prediction_set3 = test_datagen.flow_from_directory('generate1/prediction_set', # relative path from working directoy\n",
    "                                            target_size = (128, 128),batch_size=1,\n",
    "                                            class_mode = 'binary')"
   ]
  },
  {
   "cell_type": "code",
   "execution_count": null,
   "metadata": {},
   "outputs": [],
   "source": [
    "#FIRST ITER\n",
    "#predictions2=classifier.predict(prediction_set2)\n",
    "\n",
    "#SECOND ITER\n",
    "predictions3=classifier.predict(prediction_set3)"
   ]
  },
  {
   "cell_type": "code",
   "execution_count": null,
   "metadata": {
    "scrolled": true
   },
   "outputs": [],
   "source": [
    "#FIRST ITER\n",
    "#for i in range(9):\n",
    "#    plt.imshow(prediction_set2[i][0][0])\n",
    "#    print(\"The image    \"+ prediction_set2.filenames[i] + \"    \"+ \" is predicted as\",\"milk\" if predictions2[i] > 0.5 else \"not milk\")\n",
    "\n",
    "#SECOND ITER\n",
    "for i in range(9):\n",
    "    plt.imshow(prediction_set3[i][0][0])\n",
    "    print(\"The image    \"+ prediction_set3.filenames[i] + \"    \"+ \" is predicted as\",\"milk\" if predictions3[i] > 0.5 else \"not milk\")"
   ]
  },
  {
   "cell_type": "markdown",
   "metadata": {},
   "source": [
    "# Using RNN - Identified for Future Work - Not ready to run "
   ]
  },
  {
   "cell_type": "code",
   "execution_count": null,
   "metadata": {},
   "outputs": [],
   "source": [
    "import argparse\n",
    "import random\n",
    "import torch\n",
    "import torch.backends.cudnn as cudnn\n",
    "import torch.optim as optim\n",
    "import torch.utils.data\n",
    "from torch.autograd import Variable\n",
    "import numpy as np\n",
    "import os\n",
    "#import utils\n",
    "#import models.deformable_crnn as crnn\n",
    "#from warpctc_pytorch import CTCLoss\n",
    "import time\n",
    "import torch.nn\n",
    "#from dataset import TestDataset\n",
    "#from dataset import LMDBDataset"
   ]
  },
  {
   "cell_type": "code",
   "execution_count": 75,
   "metadata": {},
   "outputs": [
    {
     "name": "stderr",
     "output_type": "stream",
     "text": [
      "usage: ipykernel_launcher.py [-h] [--lmdb_paths LMDB_PATHS]\n",
      "                             [--val_list VAL_LIST] [--workers WORKERS]\n",
      "                             [--batch_size BATCH_SIZE] [--img_h IMG_H]\n",
      "                             [--img_w IMG_W] [--colored COLORED]\n",
      "                             [--epochs EPOCHS] [--lr LR] [--crnn CRNN]\n",
      "                             [--output_path OUTPUT_PATH]\n",
      "                             [--display_interval DISPLAY_INTERVAL]\n",
      "                             [--test_display_number TEST_DISPLAY_NUMBER]\n",
      "                             [--val_interval VAL_INTERVAL]\n",
      "                             [--save_interval SAVE_INTERVAL]\n",
      "                             [--save_logfile SAVE_LOGFILE]\n",
      "                             [--momentum MOMENTUM] [--cuda]\n",
      "                             [--manual_seed MANUAL_SEED]\n",
      "                             [--case_sensitive CASE_SENSITIVE]\n",
      "                             [--alphabet_insensitive ALPHABET_INSENSITIVE]\n",
      "                             [--alphabet sensitive ALPHABET SENSITIVE]\n",
      "ipykernel_launcher.py: error: unrecognized arguments: -f C:\\Users\\INDRA\\AppData\\Roaming\\jupyter\\runtime\\kernel-dfbad6fd-e849-4a13-80f1-0bdd70f7d3e1.json\n"
     ]
    },
    {
     "ename": "SystemExit",
     "evalue": "2",
     "output_type": "error",
     "traceback": [
      "An exception has occurred, use %tb to see the full traceback.\n",
      "\u001b[1;31mSystemExit\u001b[0m\u001b[1;31m:\u001b[0m 2\n"
     ]
    },
    {
     "name": "stderr",
     "output_type": "stream",
     "text": [
      "C:\\Users\\INDRA\\Anaconda3\\lib\\site-packages\\IPython\\core\\interactiveshell.py:3333: UserWarning: To exit: use 'exit', 'quit', or Ctrl-D.\n",
      "  warn(\"To exit: use 'exit', 'quit', or Ctrl-D.\", stacklevel=1)\n"
     ]
    }
   ],
   "source": [
    "parser = argparse.ArgumentParser()\n",
    "\n",
    "parser.add_argument('--lmdb_paths', type=list,\n",
    "                    default=['text_recognition_train/MJSYNTH_LMDB/', 'text_recognition_train/SYNTH_LMDB/'],\n",
    "                    help='The list of paths to training data with LMDB format.')\n",
    "\n",
    "parser.add_argument('--val_list', type=str, default='test_data/ICDAR13/gt.txt',\n",
    "                    help='The list file of testing data names and annotations.')\n",
    "\n",
    "parser.add_argument('--workers', type=int, default=8, help='The number of data loading workers.')\n",
    "parser.add_argument('--batch_size', type=int, default=64, help='The input batch size.')\n",
    "parser.add_argument('--img_h', type=int, default=64, help='The height of the input image to network.')\n",
    "parser.add_argument('--img_w', type=int, default=200, help='The width of the input image to network.')\n",
    "parser.add_argument('--colored', default=False, help='Whether to input colored images.')\n",
    "parser.add_argument('--epochs', type=int, default=10, help='The number of epochs to train for.')\n",
    "parser.add_argument('--lr', type=float, default=0.00005, help='The learning rate of the optimizer.')\n",
    "parser.add_argument('--crnn', default='', help=\"The path to pre-trained crnn model.\")\n",
    "parser.add_argument('--output_path', default='./results/', help='Where to store samples and models.')\n",
    "\n",
    "parser.add_argument('--display_interval', type=int, default=10, help='Interval to display the training information.')\n",
    "parser.add_argument('--test_display_number', type=int, default=10, help='How many samples to display when testing.')\n",
    "parser.add_argument('--val_interval', type=int, default=5000, help='The interval to validate the model.')\n",
    "parser.add_argument('--save_interval', type=int, default=5000, help='The interval to save the model.')\n",
    "parser.add_argument('--save_logfile', default=False, help='Whether to save the log file.')\n",
    "parser.add_argument('--momentum', type=float, default=0.9, help='Momentum for SGD.')\n",
    "parser.add_argument('--cuda', action='store_true', help='Whether to enable cuda.')\n",
    "parser.add_argument('--manual_seed', type=int, default=None,\n",
    "                    help='A fix seed, which will be randomly generated if set to None.')\n",
    "parser.add_argument('--case_sensitive', default=False, help='Whether the model is case sensitive.')\n",
    "parser.add_argument('--alphabet_insensitive', type=str, default='0123456789abcdefghijklmnopqrstuvwxyz',\n",
    "                    help='The alphabet when using case insensitive mode.')\n",
    "parser.add_argument('--alphabet sensitive', type=str,\n",
    "                    default='0123456789abcdefghijklmnopqrstuvwxyzABCDEFGHIJKLMNOPQRSTUVWXYZ',\n",
    "                    help='The alphabet when using case sensitive mode.')\n",
    "opt = parser.parse_args()"
   ]
  },
  {
   "cell_type": "code",
   "execution_count": 76,
   "metadata": {},
   "outputs": [
    {
     "ename": "NameError",
     "evalue": "name 'cudnn' is not defined",
     "output_type": "error",
     "traceback": [
      "\u001b[1;31m---------------------------------------------------------------------------\u001b[0m",
      "\u001b[1;31mNameError\u001b[0m                                 Traceback (most recent call last)",
      "\u001b[1;32m<ipython-input-76-ea8e29cfcd32>\u001b[0m in \u001b[0;36m<module>\u001b[1;34m\u001b[0m\n\u001b[0;32m      1\u001b[0m \u001b[1;31m# Use cudnn\u001b[0m\u001b[1;33m\u001b[0m\u001b[1;33m\u001b[0m\u001b[1;33m\u001b[0m\u001b[0m\n\u001b[1;32m----> 2\u001b[1;33m \u001b[0mcudnn\u001b[0m\u001b[1;33m.\u001b[0m\u001b[0mbenchmark\u001b[0m \u001b[1;33m=\u001b[0m \u001b[1;32mTrue\u001b[0m\u001b[1;33m\u001b[0m\u001b[1;33m\u001b[0m\u001b[0m\n\u001b[0m\u001b[0;32m      3\u001b[0m \u001b[1;33m\u001b[0m\u001b[0m\n\u001b[0;32m      4\u001b[0m \u001b[1;32mif\u001b[0m \u001b[0mtorch\u001b[0m\u001b[1;33m.\u001b[0m\u001b[0mcuda\u001b[0m\u001b[1;33m.\u001b[0m\u001b[0mis_available\u001b[0m\u001b[1;33m(\u001b[0m\u001b[1;33m)\u001b[0m \u001b[1;32mand\u001b[0m \u001b[1;32mnot\u001b[0m \u001b[0mopt\u001b[0m\u001b[1;33m.\u001b[0m\u001b[0mcuda\u001b[0m\u001b[1;33m:\u001b[0m\u001b[1;33m\u001b[0m\u001b[1;33m\u001b[0m\u001b[0m\n\u001b[0;32m      5\u001b[0m     \u001b[0mprint\u001b[0m\u001b[1;33m(\u001b[0m\u001b[1;34m\"WARNING: You have a CUDA device, so you should probably run with --cuda\"\u001b[0m\u001b[1;33m)\u001b[0m\u001b[1;33m\u001b[0m\u001b[1;33m\u001b[0m\u001b[0m\n",
      "\u001b[1;31mNameError\u001b[0m: name 'cudnn' is not defined"
     ]
    }
   ],
   "source": [
    "# Use cudnn\n",
    "cudnn.benchmark = True\n",
    "\n",
    "if torch.cuda.is_available() and not opt.cuda:\n",
    "    print(\"WARNING: You have a CUDA device, so you should probably run with --cuda\")\n"
   ]
  },
  {
   "cell_type": "code",
   "execution_count": 77,
   "metadata": {},
   "outputs": [
    {
     "ename": "AttributeError",
     "evalue": "'Adam' object has no attribute 'output_path'",
     "output_type": "error",
     "traceback": [
      "\u001b[1;31m---------------------------------------------------------------------------\u001b[0m",
      "\u001b[1;31mAttributeError\u001b[0m                            Traceback (most recent call last)",
      "\u001b[1;32m<ipython-input-77-1c674762c239>\u001b[0m in \u001b[0;36m<module>\u001b[1;34m\u001b[0m\n\u001b[1;32m----> 1\u001b[1;33m \u001b[1;32mif\u001b[0m \u001b[1;32mnot\u001b[0m \u001b[0mos\u001b[0m\u001b[1;33m.\u001b[0m\u001b[0mpath\u001b[0m\u001b[1;33m.\u001b[0m\u001b[0mexists\u001b[0m\u001b[1;33m(\u001b[0m\u001b[0mopt\u001b[0m\u001b[1;33m.\u001b[0m\u001b[0moutput_path\u001b[0m\u001b[1;33m)\u001b[0m\u001b[1;33m:\u001b[0m\u001b[1;33m\u001b[0m\u001b[1;33m\u001b[0m\u001b[0m\n\u001b[0m\u001b[0;32m      2\u001b[0m     \u001b[0mos\u001b[0m\u001b[1;33m.\u001b[0m\u001b[0msystem\u001b[0m\u001b[1;33m(\u001b[0m\u001b[1;34m'mkdir {0}'\u001b[0m\u001b[1;33m.\u001b[0m\u001b[0mformat\u001b[0m\u001b[1;33m(\u001b[0m\u001b[0mopt\u001b[0m\u001b[1;33m.\u001b[0m\u001b[0moutput_path\u001b[0m\u001b[1;33m)\u001b[0m\u001b[1;33m)\u001b[0m\u001b[1;33m\u001b[0m\u001b[1;33m\u001b[0m\u001b[0m\n\u001b[0;32m      3\u001b[0m \u001b[1;33m\u001b[0m\u001b[0m\n\u001b[0;32m      4\u001b[0m \u001b[1;31m# Choose the alphabet\u001b[0m\u001b[1;33m\u001b[0m\u001b[1;33m\u001b[0m\u001b[1;33m\u001b[0m\u001b[0m\n\u001b[0;32m      5\u001b[0m \u001b[0malphabet\u001b[0m \u001b[1;33m=\u001b[0m \u001b[0mopt\u001b[0m\u001b[1;33m.\u001b[0m\u001b[0malphabet_sensitive\u001b[0m \u001b[1;32mif\u001b[0m \u001b[0mopt\u001b[0m\u001b[1;33m.\u001b[0m\u001b[0mcase_sensitive\u001b[0m \u001b[1;32melse\u001b[0m \u001b[0mopt\u001b[0m\u001b[1;33m.\u001b[0m\u001b[0malphabet_insensitive\u001b[0m\u001b[1;33m\u001b[0m\u001b[1;33m\u001b[0m\u001b[0m\n",
      "\u001b[1;31mAttributeError\u001b[0m: 'Adam' object has no attribute 'output_path'"
     ]
    }
   ],
   "source": [
    "if not os.path.exists(opt.output_path):\n",
    "    os.system('mkdir {0}'.format(opt.output_path))\n",
    "\n",
    "# Choose the alphabet\n",
    "alphabet = opt.alphabet_sensitive if opt.case_sensitive else opt.alphabet_insensitive\n",
    "\n",
    "# Set the seed\n",
    "if opt.manual_seed is None:\n",
    "    opt.manual_seed = random.randint(1, 10000)\n",
    "random.seed(opt.manual_seed)\n",
    "np.random.seed(opt.manual_seed)\n",
    "torch.manual_seed(opt.manual_seed)"
   ]
  },
  {
   "cell_type": "markdown",
   "metadata": {},
   "source": [
    "Dataset"
   ]
  },
  {
   "cell_type": "code",
   "execution_count": null,
   "metadata": {},
   "outputs": [],
   "source": [
    "# Prepare training and testing data\n",
    "train_datasets = [LMDBDataset(x) for x in opt.lmdb_paths]\n",
    "train_dataset = torch.utils.data.ConcatDataset(train_datasets)"
   ]
  },
  {
   "cell_type": "markdown",
   "metadata": {},
   "source": [
    "Train the model"
   ]
  },
  {
   "cell_type": "code",
   "execution_count": null,
   "metadata": {},
   "outputs": [],
   "source": [
    "train_loader = torch.utils.data.DataLoader(train_dataset, batch_size=opt.batch_size, shuffle=True, sampler=None,\n",
    "                                           num_workers=int(opt.workers),\n",
    "                                           collate_fn=utils.AlignCollate(im_h=opt.img_h, im_w=opt.img_w))\n",
    "print('Num of Training Images: %s' % len(train_dataset))"
   ]
  },
  {
   "cell_type": "code",
   "execution_count": null,
   "metadata": {},
   "outputs": [],
   "source": [
    "test_dataset = TestDataset(list_file=opt.val_list, alphabet=alphabet,\n",
    "                           transform=utils.ResizeNormalize((opt.img_w, opt.img_h)))\n",
    "print('Num of Testing Images: %s' % len(test_dataset))"
   ]
  },
  {
   "cell_type": "code",
   "execution_count": null,
   "metadata": {},
   "outputs": [],
   "source": [
    "nclass = len(alphabet) + 1\n",
    "nc = 3 if opt.colored else 1\n",
    "\n",
    "converter = utils.strLabelConverter(alphabet)\n",
    "criterion = CTCLoss()"
   ]
  },
  {
   "cell_type": "code",
   "execution_count": null,
   "metadata": {},
   "outputs": [],
   "source": [
    "# custom weights initialization called on crnn\n",
    "def weights_init(m):\n",
    "    classname = m.__class__.__name__\n",
    "    if classname.find('Conv') != -1:\n",
    "        m.weight.data.normal_(0.0, 0.02)\n",
    "    elif classname.find('BatchNorm') != -1:\n",
    "        m.weight.data.normal_(1.0, 0.02)\n",
    "        m.bias.data.fill_(0)\n",
    "\n",
    "\n",
    "crnn = crnn.DeformableCRNN(opt.img_h, nc, nclass)\n",
    "crnn.apply(weights_init)\n",
    "\n",
    "# Load pre-trained model if provided\n",
    "if opt.crnn != '':\n",
    "    print('Loading pretrained model from %s ...' % opt.crnn)\n",
    "    if opt.cuda:\n",
    "        crnn = torch.nn.DataParallel(crnn, device_ids=range(opt.gpu_number))\n",
    "    crnn.load_state_dict(torch.load(opt.crnn))\n",
    "\n",
    "image = torch.FloatTensor(opt.batch_size, 3, opt.img_h, opt.img_h)\n",
    "text = torch.IntTensor(opt.batch_size * 5)\n",
    "length = torch.IntTensor(opt.batch_size)\n",
    "\n",
    "if opt.cuda:\n",
    "    crnn.cuda()\n",
    "    if crnn == '':\n",
    "        crnn = torch.nn.DataParallel(crnn, device_ids=range(opt.gpu_number))\n",
    "    image = image.cuda()\n",
    "    criterion = criterion.cuda()\n",
    "\n",
    "# loss averager\n",
    "loss_avg = utils.averager()\n",
    "\n",
    "# to use SGD optimizer\n",
    "optimizer = optim.SGD(crnn.parameters(), lr=opt.lr, momentum=opt.momentum)"
   ]
  },
  {
   "cell_type": "code",
   "execution_count": null,
   "metadata": {},
   "outputs": [],
   "source": [
    "# Validate the model during the training process\n",
    "def val(net, dataset, criterion, best_accuracy, epoch, i, best_epoch, best_i, max_iter=100):\n",
    "    print('Validating...')\n",
    "\n",
    "    for para in crnn.parameters():\n",
    "        para.requires_grad = False\n",
    "\n",
    "    net.eval()\n",
    "    data_loader = torch.utils.data.DataLoader(\n",
    "        dataset, shuffle=True, batch_size=opt.batch_size, num_workers=int(opt.workers))\n",
    "    val_iter = iter(data_loader)\n",
    "\n",
    "    n_correct = 0\n",
    "    loss_avg_ = utils.averager()\n",
    "\n",
    "    max_iter = min(max_iter, len(data_loader))\n",
    "    for j in range(max_iter):\n",
    "        data = val_iter.next()\n",
    "        j += 1\n",
    "        cpu_images, cpu_texts, _ = data\n",
    "        batch_size = cpu_images.size(0)\n",
    "        utils.loadData(image, cpu_images)\n",
    "        t, length_ = converter.encode(cpu_texts)\n",
    "        utils.loadData(text, t)\n",
    "        utils.loadData(length, length_)\n",
    "\n",
    "        preds = crnn(image)\n",
    "        preds_size = Variable(torch.IntTensor([preds.size(0)] * batch_size))\n",
    "        cost_ = criterion(preds, text, preds_size, length) / batch_size\n",
    "        loss_avg_.add(cost_)\n",
    "\n",
    "        _, preds = preds.max(2)\n",
    "        preds = preds.transpose(1, 0).contiguous().view(-1)\n",
    "        sim_preds = converter.decode(preds.data, preds_size.data, raw=False)\n",
    "        for pred, target in zip(sim_preds, cpu_texts):\n",
    "            if pred == target.lower():\n",
    "                n_correct += 1\n",
    "\n",
    "    raw_preds = converter.decode(preds.data, preds_size.data, raw=True)[:opt.test_display_number]\n",
    "    for raw_pred, pred, gt in zip(raw_preds, sim_preds, cpu_texts):\n",
    "        print('%-20s => %-20s, gt: %-20s' % (raw_pred, pred, gt))\n",
    "\n",
    "    accuracy = n_correct / float(max_iter * opt.batch_size)\n",
    "    print('Test loss: %f, accuray: %f' % (loss_avg.val(), accuracy))\n",
    "    if accuracy > best_accuracy:\n",
    "        best_accuracy = accuracy\n",
    "        best_epoch = epoch\n",
    "        best_i = i\n",
    "    print('Best accuracy: ', best_accuracy, ' from ecpoch ', best_epoch, ', iteration ', best_i)\n",
    "    return best_accuracy, best_epoch, best_i"
   ]
  },
  {
   "cell_type": "code",
   "execution_count": null,
   "metadata": {},
   "outputs": [],
   "source": [
    "def train_batch(model, criterion, optimizer):\n",
    "    data = train_iter.next()\n",
    "    cpu_images, cpu_texts = data\n",
    "    batch_size = cpu_images.size(0)\n",
    "    utils.loadData(image, cpu_images)\n",
    "    t, length_ = converter.encode(cpu_texts)\n",
    "    utils.loadData(text, t)\n",
    "    utils.loadData(length, length_)\n",
    "\n",
    "    preds = model(image)\n",
    "    preds_size = torch.IntTensor([preds.size(0)] * batch_size)\n",
    "    loss = criterion(preds, text, preds_size, length) / batch_size\n",
    "    crnn.zero_grad()\n",
    "    loss.backward()\n",
    "    optimizer.step()\n",
    "    return loss\n"
   ]
  },
  {
   "cell_type": "code",
   "execution_count": null,
   "metadata": {},
   "outputs": [],
   "source": [
    "if opt.save_logfile:\n",
    "    log = open(opt.output_path + 'log.txt', 'w+')\n",
    "\n",
    "start = time.time()\n",
    "best_accuracy = 0\n",
    "best_epoch = 0\n",
    "best_i = 0\n",
    "for epoch in range(opt.epochs):\n",
    "    train_iter = iter(train_loader)\n",
    "    i = 0\n",
    "    time_train_batch = 0\n",
    "\n",
    "    while i < len(train_loader):\n",
    "        for p in crnn.parameters():\n",
    "            p.requires_grad = True\n",
    "        crnn.train()\n",
    "\n",
    "        t1 = time.time()\n",
    "        cost = train_batch(crnn, criterion, optimizer)\n",
    "        t2 = time.time()\n",
    "        loss_avg.add(cost)\n",
    "        i += 1\n",
    "\n",
    "        time_train_batch += (t2 - t1)\n",
    "\n",
    "        if i % opt.display_interval == 0:\n",
    "            time_train_batch = time_train_batch / opt.display_interval\n",
    "            print('[%d/%d][%d/%d] Loss: %f Time: %.2f ms per batch' % (epoch, opt.epochs, i, len(train_loader),\n",
    "                                                                       loss_avg.val(), time_train_batch * 1000))\n",
    "            time_train_batch = 0\n",
    "            if opt.save_logfile:\n",
    "                log.write('[%d/%d][%d/%d] Loss: %f\\n' % (epoch, opt.epochs, i, len(train_loader), loss_avg.val()))\n",
    "            loss_avg.reset()\n",
    "\n",
    "        if i % opt.val_interval == 0:\n",
    "            best_accuracy, best_epoch, best_i = val(crnn, test_dataset, criterion, best_accuracy,\n",
    "                                                    epoch, i, best_epoch, best_i)\n",
    "\n",
    "        if i % opt.save_interval == 0:\n",
    "            torch.save(crnn.state_dict(), '{0}/crnn_deform_{1}_{2}.pth'.format(opt.output_path, epoch, i))\n",
    "\n",
    "end = time.time()\n",
    "torch.save(crnn.state_dict(), 'crnn_deform_final.pth')\n",
    "print('Program processed ', end - start, 's, ', (end - start)/60, 'min, ', (end - start)/3600, 'h')\n",
    "\n",
    "if opt.save_logfile:\n",
    "    log.write('Program processed ' + str(end - start) + 's, ' + str((end - start)/60) + 'min, ' +\n",
    "              str((end - start)/3600) + 'h')\n",
    "    log.close()"
   ]
  }
 ],
 "metadata": {
  "kernelspec": {
   "display_name": "Python 3",
   "language": "python",
   "name": "python3"
  },
  "language_info": {
   "codemirror_mode": {
    "name": "ipython",
    "version": 3
   },
   "file_extension": ".py",
   "mimetype": "text/x-python",
   "name": "python",
   "nbconvert_exporter": "python",
   "pygments_lexer": "ipython3",
   "version": "3.7.3"
  }
 },
 "nbformat": 4,
 "nbformat_minor": 2
}
